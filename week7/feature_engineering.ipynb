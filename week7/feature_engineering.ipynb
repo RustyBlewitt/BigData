{
 "cells": [
  {
   "cell_type": "markdown",
   "metadata": {},
   "source": [
    "# Lab 7 - Textual Data Analytics\n",
    "Complete the code with TODO tag.\n",
    "## 1. Feature Engineering\n",
    "In this exercise we will understand the functioning of TF/IDF ranking. Implement the feature engineering and its application, based on the code framework provided below.\n",
    "\n",
    "First we use textual data from Twitter."
   ]
  },
  {
   "cell_type": "code",
   "execution_count": 2,
   "metadata": {},
   "outputs": [
    {
     "name": "stdout",
     "output_type": "stream",
     "text": [
      "2819\n"
     ]
    },
    {
     "data": {
      "text/html": [
       "<div>\n",
       "<style scoped>\n",
       "    .dataframe tbody tr th:only-of-type {\n",
       "        vertical-align: middle;\n",
       "    }\n",
       "\n",
       "    .dataframe tbody tr th {\n",
       "        vertical-align: top;\n",
       "    }\n",
       "\n",
       "    .dataframe thead th {\n",
       "        text-align: right;\n",
       "    }\n",
       "</style>\n",
       "<table border=\"1\" class=\"dataframe\">\n",
       "  <thead>\n",
       "    <tr style=\"text-align: right;\">\n",
       "      <th></th>\n",
       "      <th>id</th>\n",
       "      <th>created_at</th>\n",
       "      <th>text</th>\n",
       "    </tr>\n",
       "  </thead>\n",
       "  <tbody>\n",
       "    <tr>\n",
       "      <th>0</th>\n",
       "      <td>849636868052275200</td>\n",
       "      <td>2017-04-05 14:56:29</td>\n",
       "      <td>b'And so the robots spared humanity ... https:...</td>\n",
       "    </tr>\n",
       "    <tr>\n",
       "      <th>1</th>\n",
       "      <td>848988730585096192</td>\n",
       "      <td>2017-04-03 20:01:01</td>\n",
       "      <td>b\"@ForIn2020 @waltmossberg @mims @defcon_5 Exa...</td>\n",
       "    </tr>\n",
       "    <tr>\n",
       "      <th>2</th>\n",
       "      <td>848943072423497728</td>\n",
       "      <td>2017-04-03 16:59:35</td>\n",
       "      <td>b'@waltmossberg @mims @defcon_5 Et tu, Walt?'</td>\n",
       "    </tr>\n",
       "    <tr>\n",
       "      <th>3</th>\n",
       "      <td>848935705057280001</td>\n",
       "      <td>2017-04-03 16:30:19</td>\n",
       "      <td>b'Stormy weather in Shortville ...'</td>\n",
       "    </tr>\n",
       "    <tr>\n",
       "      <th>4</th>\n",
       "      <td>848416049573658624</td>\n",
       "      <td>2017-04-02 06:05:23</td>\n",
       "      <td>b\"@DaveLeeBBC @verge Coal is dying due to nat ...</td>\n",
       "    </tr>\n",
       "    <tr>\n",
       "      <th>5</th>\n",
       "      <td>848415731502923777</td>\n",
       "      <td>2017-04-02 06:04:07</td>\n",
       "      <td>b\"@Lexxxzis It's just a helicopter in helicopt...</td>\n",
       "    </tr>\n",
       "    <tr>\n",
       "      <th>6</th>\n",
       "      <td>848415356263702528</td>\n",
       "      <td>2017-04-02 06:02:38</td>\n",
       "      <td>b\"@verge It won't matter\"</td>\n",
       "    </tr>\n",
       "    <tr>\n",
       "      <th>7</th>\n",
       "      <td>848398971139629057</td>\n",
       "      <td>2017-04-02 04:57:31</td>\n",
       "      <td>b'@SuperCoolCube Pretty good'</td>\n",
       "    </tr>\n",
       "    <tr>\n",
       "      <th>8</th>\n",
       "      <td>848244577521647616</td>\n",
       "      <td>2017-04-01 18:44:01</td>\n",
       "      <td>b\"Why did we waste so much time developing sil...</td>\n",
       "    </tr>\n",
       "    <tr>\n",
       "      <th>9</th>\n",
       "      <td>848243350993895424</td>\n",
       "      <td>2017-04-01 18:39:09</td>\n",
       "      <td>b'Technology breakthrough: turns out chemtrail...</td>\n",
       "    </tr>\n",
       "    <tr>\n",
       "      <th>10</th>\n",
       "      <td>848239928043491328</td>\n",
       "      <td>2017-04-01 18:25:33</td>\n",
       "      <td>b\"RT @OpenAI: We've created the world's first ...</td>\n",
       "    </tr>\n",
       "    <tr>\n",
       "      <th>11</th>\n",
       "      <td>848239664536223745</td>\n",
       "      <td>2017-04-01 18:24:30</td>\n",
       "      <td>b'RT @ProfBrianCox: This is extremely importan...</td>\n",
       "    </tr>\n",
       "    <tr>\n",
       "      <th>12</th>\n",
       "      <td>848036043240636417</td>\n",
       "      <td>2017-04-01 04:55:23</td>\n",
       "      <td>b'@adamsbj Def P100D with Ludicrous+, although...</td>\n",
       "    </tr>\n",
       "    <tr>\n",
       "      <th>13</th>\n",
       "      <td>847958571895619584</td>\n",
       "      <td>2017-03-31 23:47:32</td>\n",
       "      <td>b'@BadAstronomer We can def bring it back like...</td>\n",
       "    </tr>\n",
       "    <tr>\n",
       "      <th>14</th>\n",
       "      <td>847890916048338946</td>\n",
       "      <td>2017-03-31 19:18:42</td>\n",
       "      <td>b'@tesla_addict @TeslaMotors Working on it'</td>\n",
       "    </tr>\n",
       "    <tr>\n",
       "      <th>15</th>\n",
       "      <td>847884776719740928</td>\n",
       "      <td>2017-03-31 18:54:18</td>\n",
       "      <td>b\"@jasonlamb Looks like it could do 20% more w...</td>\n",
       "    </tr>\n",
       "    <tr>\n",
       "      <th>16</th>\n",
       "      <td>847884413706874880</td>\n",
       "      <td>2017-03-31 18:52:51</td>\n",
       "      <td>b'@cheron A lot'</td>\n",
       "    </tr>\n",
       "    <tr>\n",
       "      <th>17</th>\n",
       "      <td>847884351375372288</td>\n",
       "      <td>2017-03-31 18:52:36</td>\n",
       "      <td>b'@Cardoso Silliest thing we can imagine! Secr...</td>\n",
       "    </tr>\n",
       "    <tr>\n",
       "      <th>18</th>\n",
       "      <td>847883435100299267</td>\n",
       "      <td>2017-03-31 18:48:58</td>\n",
       "      <td>b'@redletterdave Good point, odds go from 0% t...</td>\n",
       "    </tr>\n",
       "    <tr>\n",
       "      <th>19</th>\n",
       "      <td>847882909906341888</td>\n",
       "      <td>2017-03-31 18:46:53</td>\n",
       "      <td>b'Falcon Heavy test flight currently scheduled...</td>\n",
       "    </tr>\n",
       "    <tr>\n",
       "      <th>20</th>\n",
       "      <td>847882289581359104</td>\n",
       "      <td>2017-03-31 18:44:25</td>\n",
       "      <td>b'Considering trying to bring upper stage back...</td>\n",
       "    </tr>\n",
       "    <tr>\n",
       "      <th>21</th>\n",
       "      <td>847881536254955521</td>\n",
       "      <td>2017-03-31 18:41:25</td>\n",
       "      <td>b'@oxfordteddy Browser is already a little bet...</td>\n",
       "    </tr>\n",
       "    <tr>\n",
       "      <th>22</th>\n",
       "      <td>847610880506208257</td>\n",
       "      <td>2017-03-31 00:45:56</td>\n",
       "      <td>b'RT @SpaceX: More photos from today\\xe2\\x80\\x...</td>\n",
       "    </tr>\n",
       "    <tr>\n",
       "      <th>23</th>\n",
       "      <td>847608431582208000</td>\n",
       "      <td>2017-03-31 00:36:12</td>\n",
       "      <td>b'@BadAstronomer @SpaceX Thanks Phil!'</td>\n",
       "    </tr>\n",
       "    <tr>\n",
       "      <th>24</th>\n",
       "      <td>847594208219336705</td>\n",
       "      <td>2017-03-30 23:39:41</td>\n",
       "      <td>b'Incredibly proud of the SpaceX team for achi...</td>\n",
       "    </tr>\n",
       "    <tr>\n",
       "      <th>25</th>\n",
       "      <td>847580067446345728</td>\n",
       "      <td>2017-03-30 22:43:30</td>\n",
       "      <td>b'RT @SpaceX: Falcon 9 first stage has landed ...</td>\n",
       "    </tr>\n",
       "    <tr>\n",
       "      <th>26</th>\n",
       "      <td>847561780532523008</td>\n",
       "      <td>2017-03-30 21:30:50</td>\n",
       "      <td>b'RT @SpaceX: ~60 minutes until launch window ...</td>\n",
       "    </tr>\n",
       "    <tr>\n",
       "      <th>27</th>\n",
       "      <td>847510437054877698</td>\n",
       "      <td>2017-03-30 18:06:48</td>\n",
       "      <td>b'RT @SpaceX: Falcon 9 and SES-10 vertical on ...</td>\n",
       "    </tr>\n",
       "    <tr>\n",
       "      <th>28</th>\n",
       "      <td>847259545755820033</td>\n",
       "      <td>2017-03-30 01:29:51</td>\n",
       "      <td>b'Made today on Tesla sketch pad https://t.co/...</td>\n",
       "    </tr>\n",
       "    <tr>\n",
       "      <th>29</th>\n",
       "      <td>847234747747020800</td>\n",
       "      <td>2017-03-29 23:51:19</td>\n",
       "      <td>b'If you just downloaded V8.1, tap the the T o...</td>\n",
       "    </tr>\n",
       "  </tbody>\n",
       "</table>\n",
       "</div>"
      ],
      "text/plain": [
       "                    id           created_at  \\\n",
       "0   849636868052275200  2017-04-05 14:56:29   \n",
       "1   848988730585096192  2017-04-03 20:01:01   \n",
       "2   848943072423497728  2017-04-03 16:59:35   \n",
       "3   848935705057280001  2017-04-03 16:30:19   \n",
       "4   848416049573658624  2017-04-02 06:05:23   \n",
       "5   848415731502923777  2017-04-02 06:04:07   \n",
       "6   848415356263702528  2017-04-02 06:02:38   \n",
       "7   848398971139629057  2017-04-02 04:57:31   \n",
       "8   848244577521647616  2017-04-01 18:44:01   \n",
       "9   848243350993895424  2017-04-01 18:39:09   \n",
       "10  848239928043491328  2017-04-01 18:25:33   \n",
       "11  848239664536223745  2017-04-01 18:24:30   \n",
       "12  848036043240636417  2017-04-01 04:55:23   \n",
       "13  847958571895619584  2017-03-31 23:47:32   \n",
       "14  847890916048338946  2017-03-31 19:18:42   \n",
       "15  847884776719740928  2017-03-31 18:54:18   \n",
       "16  847884413706874880  2017-03-31 18:52:51   \n",
       "17  847884351375372288  2017-03-31 18:52:36   \n",
       "18  847883435100299267  2017-03-31 18:48:58   \n",
       "19  847882909906341888  2017-03-31 18:46:53   \n",
       "20  847882289581359104  2017-03-31 18:44:25   \n",
       "21  847881536254955521  2017-03-31 18:41:25   \n",
       "22  847610880506208257  2017-03-31 00:45:56   \n",
       "23  847608431582208000  2017-03-31 00:36:12   \n",
       "24  847594208219336705  2017-03-30 23:39:41   \n",
       "25  847580067446345728  2017-03-30 22:43:30   \n",
       "26  847561780532523008  2017-03-30 21:30:50   \n",
       "27  847510437054877698  2017-03-30 18:06:48   \n",
       "28  847259545755820033  2017-03-30 01:29:51   \n",
       "29  847234747747020800  2017-03-29 23:51:19   \n",
       "\n",
       "                                                 text  \n",
       "0   b'And so the robots spared humanity ... https:...  \n",
       "1   b\"@ForIn2020 @waltmossberg @mims @defcon_5 Exa...  \n",
       "2       b'@waltmossberg @mims @defcon_5 Et tu, Walt?'  \n",
       "3                 b'Stormy weather in Shortville ...'  \n",
       "4   b\"@DaveLeeBBC @verge Coal is dying due to nat ...  \n",
       "5   b\"@Lexxxzis It's just a helicopter in helicopt...  \n",
       "6                           b\"@verge It won't matter\"  \n",
       "7                       b'@SuperCoolCube Pretty good'  \n",
       "8   b\"Why did we waste so much time developing sil...  \n",
       "9   b'Technology breakthrough: turns out chemtrail...  \n",
       "10  b\"RT @OpenAI: We've created the world's first ...  \n",
       "11  b'RT @ProfBrianCox: This is extremely importan...  \n",
       "12  b'@adamsbj Def P100D with Ludicrous+, although...  \n",
       "13  b'@BadAstronomer We can def bring it back like...  \n",
       "14        b'@tesla_addict @TeslaMotors Working on it'  \n",
       "15  b\"@jasonlamb Looks like it could do 20% more w...  \n",
       "16                                   b'@cheron A lot'  \n",
       "17  b'@Cardoso Silliest thing we can imagine! Secr...  \n",
       "18  b'@redletterdave Good point, odds go from 0% t...  \n",
       "19  b'Falcon Heavy test flight currently scheduled...  \n",
       "20  b'Considering trying to bring upper stage back...  \n",
       "21  b'@oxfordteddy Browser is already a little bet...  \n",
       "22  b'RT @SpaceX: More photos from today\\xe2\\x80\\x...  \n",
       "23             b'@BadAstronomer @SpaceX Thanks Phil!'  \n",
       "24  b'Incredibly proud of the SpaceX team for achi...  \n",
       "25  b'RT @SpaceX: Falcon 9 first stage has landed ...  \n",
       "26  b'RT @SpaceX: ~60 minutes until launch window ...  \n",
       "27  b'RT @SpaceX: Falcon 9 and SES-10 vertical on ...  \n",
       "28  b'Made today on Tesla sketch pad https://t.co/...  \n",
       "29  b'If you just downloaded V8.1, tap the the T o...  "
      ]
     },
     "execution_count": 2,
     "metadata": {},
     "output_type": "execute_result"
    }
   ],
   "source": [
    "import numpy as np\n",
    "import pandas as pd\n",
    "data = pd.read_csv('data.csv')\n",
    "print(len(data))\n",
    "data.head(30)"
   ]
  },
  {
   "cell_type": "markdown",
   "metadata": {},
   "source": [
    "### 1.1. Text Normalization\n",
    "Now we need to normalize text by stemming, tokenizing, and removing stopwords."
   ]
  },
  {
   "cell_type": "code",
   "execution_count": 3,
   "metadata": {},
   "outputs": [
    {
     "name": "stderr",
     "output_type": "stream",
     "text": [
      "[nltk_data] Downloading package punkt to /Users/gu/nltk_data...\n",
      "[nltk_data]   Package punkt is already up-to-date!\n",
      "[nltk_data] Downloading package stopwords to /Users/gu/nltk_data...\n",
      "[nltk_data]   Package stopwords is already up-to-date!\n"
     ]
    }
   ],
   "source": [
    "from __future__ import print_function, division\n",
    "from nltk.stem import PorterStemmer, WordNetLemmatizer\n",
    "import nltk\n",
    "nltk.download('punkt')\n",
    "import string\n",
    "from nltk.corpus import stopwords\n",
    "import math\n",
    "from collections import Counter\n",
    "nltk.download('stopwords')\n",
    "import pprint \n",
    "pp = pprint.PrettyPrinter(indent=4)"
   ]
  },
  {
   "cell_type": "code",
   "execution_count": 4,
   "metadata": {},
   "outputs": [
    {
     "data": {
      "text/plain": [
       "['band', 'so', 'the', 'robot', 'spare', 'human', 'httpstcov7jujqwfcv']"
      ]
     },
     "execution_count": 4,
     "metadata": {},
     "output_type": "execute_result"
    }
   ],
   "source": [
    "from nltk.tokenize import word_tokenize, sent_tokenize\n",
    "\n",
    "def normalize(document):\n",
    "    \n",
    "    # Remove punctuation\n",
    "    text = document.translate(str.maketrans('', '', string.punctuation))\n",
    "    \n",
    "    # Tokenize text\n",
    "    tokens = nltk.word_tokenize(text)\n",
    "    \n",
    "    # Stem text\n",
    "    stemmer = PorterStemmer()\n",
    "    ret = ' '.join([stemmer.stem(word.lower()) for word in tokens])\n",
    "    return ret\n",
    "\n",
    "original_documents = [x.strip() for x in data['text']] \n",
    "documents = [normalize(d).split() for d in original_documents]\n",
    "documents[0]"
   ]
  },
  {
   "cell_type": "markdown",
   "metadata": {},
   "source": [
    "As you can see that the normalization is still not perfect. Please feel free to improve upon (OPTIONAL), e.g. https://marcobonzanini.com/2015/03/09/mining-twitter-data-with-python-part-2/"
   ]
  },
  {
   "cell_type": "markdown",
   "metadata": {},
   "source": [
    "### 1.2. Implement TF-IDF\n",
    "Now you need to implement TF-IDF, including creating the vocabulary, computing term frequency, and normalizing by tf-idf weights."
   ]
  },
  {
   "cell_type": "code",
   "execution_count": 5,
   "metadata": {},
   "outputs": [
    {
     "name": "stdout",
     "output_type": "stream",
     "text": [
      "[('tesla', 287)]\n"
     ]
    },
    {
     "data": {
      "text/plain": [
       "['brt', 'tesla', 'spacex', 'model', 'thi']"
      ]
     },
     "execution_count": 5,
     "metadata": {},
     "output_type": "execute_result"
    }
   ],
   "source": [
    "# Flatten all the documents\n",
    "flat_list = [word for doc in documents for word in doc]\n",
    "\n",
    "# Remove stop words from the vocabulary\n",
    "words = [w for w in flat_list if w not in stopwords.words('english')]\n",
    "\n",
    "# Take the 500 most common words\n",
    "counts = Counter(words)\n",
    "vocabulary = counts.most_common(500)\n",
    "\n",
    "print([x for x in vocabulary if x[0] == 'tesla'])\n",
    "vocabulary = [x[0] for x in vocabulary]\n",
    "assert len(vocabulary) == 500\n",
    "\n",
    "vocabulary[:5]"
   ]
  },
  {
   "cell_type": "code",
   "execution_count": 6,
   "metadata": {},
   "outputs": [
    {
     "data": {
      "text/plain": [
       "(array(['tesla', 'exactli'], dtype='<U17'), array([1, 1]))"
      ]
     },
     "execution_count": 6,
     "metadata": {},
     "output_type": "execute_result"
    }
   ],
   "source": [
    "def tf(vocabulary, documents):\n",
    "    matrix = [0] * len(documents)\n",
    "    for i, document in enumerate(documents):\n",
    "        counts = Counter(document)\n",
    "        matrix[i] = [0] * len(vocabulary)\n",
    "        for j, term in enumerate(vocabulary):\n",
    "            matrix[i][j] = counts[term]\n",
    "    return matrix\n",
    "\n",
    "tf = tf(vocabulary, documents)\n",
    "np.array(vocabulary)[np.where(np.array(tf[1]) > 0)], np.array(tf[1])[np.where(np.array(tf[1]) > 0)]"
   ]
  },
  {
   "cell_type": "code",
   "execution_count": 18,
   "metadata": {},
   "outputs": [
    {
     "data": {
      "text/plain": [
       "[2.5391268254959316,\n",
       " 3.3163095197385393,\n",
       " 3.7262581423445833,\n",
       " 3.8171115727956972,\n",
       " 3.802756279818627]"
      ]
     },
     "execution_count": 18,
     "metadata": {},
     "output_type": "execute_result"
    }
   ],
   "source": [
    "from math import log2\n",
    "def idf(vocabulary, documents):\n",
    "    idf = {}\n",
    "    \n",
    "    doc_len = len(documents)\n",
    "    \n",
    "    for v in vocabulary:\n",
    "        doc_count = 0\n",
    "        for d in documents:\n",
    "            if v in d:\n",
    "                doc_count += 1\n",
    "                \n",
    "        idf[v] = log2(doc_len/doc_count)\n",
    "    \n",
    "    return idf\n",
    "\n",
    "idf = idf(vocabulary, documents)\n",
    "[idf[key] for key in vocabulary[:5]]"
   ]
  },
  {
   "cell_type": "code",
   "execution_count": 19,
   "metadata": {},
   "outputs": [
    {
     "data": {
      "text/plain": [
       "(array(['tesla', 'exactli'], dtype='<U17'), array([3.31630952, 6.65361284]))"
      ]
     },
     "execution_count": 19,
     "metadata": {},
     "output_type": "execute_result"
    }
   ],
   "source": [
    "def vectorize(document, vocabulary, idf):\n",
    "    vector = [0]*len(vocabulary)\n",
    "    counts = Counter(document)\n",
    "    for i,term in enumerate(vocabulary):\n",
    "        vector[i] = idf[term] * counts[term]\n",
    "    return vector\n",
    "\n",
    "document_vectors = [vectorize(s, vocabulary, idf) for s in documents]\n",
    "np.array(vocabulary)[np.where(np.array(document_vectors[1]) > 0)], np.array(document_vectors[1])[np.where(np.array(document_vectors[1]) > 0)]"
   ]
  },
  {
   "cell_type": "markdown",
   "metadata": {},
   "source": [
    "### 1.3. Compare the results with the reference implementation of scikit-learn library."
   ]
  },
  {
   "cell_type": "markdown",
   "metadata": {},
   "source": [
    "Now we use the scikit-learn library. As you can see that, the way we do text normalization affects the result. Feel free to further improve upon (OPTIONAL), e.g. https://stackoverflow.com/questions/36182502/add-stemming-support-to-countvectorizer-sklearn"
   ]
  },
  {
   "cell_type": "code",
   "execution_count": 20,
   "metadata": {},
   "outputs": [
    {
     "name": "stdout",
     "output_type": "stream",
     "text": [
      "[('http', 163.54366542841234), ('https', 151.85039944652075), ('rt', 112.61998731390989), ('tesla', 95.96401470715628), ('xe2', 88.20944486346477)]\n",
      "testla 0.3495243100660956\n"
     ]
    }
   ],
   "source": [
    "from sklearn.feature_extraction.text import CountVectorizer, TfidfVectorizer\n",
    "from sklearn.metrics.pairwise import linear_kernel\n",
    "\n",
    "tfidf = TfidfVectorizer(analyzer='word', ngram_range=(1,1), min_df = 1, stop_words = 'english', max_features=500)\n",
    "\n",
    "features = tfidf.fit(original_documents)\n",
    "corpus_tf_idf = tfidf.transform(original_documents) \n",
    "\n",
    "sum_words = corpus_tf_idf.sum(axis=0)\n",
    "words_freq = [(word, sum_words[0, idx]) for word, idx in tfidf.vocabulary_.items()]\n",
    "print(sorted(words_freq, key = lambda x: x[1], reverse=True)[:5])\n",
    "print('testla', corpus_tf_idf[1, features.vocabulary_['tesla']])"
   ]
  },
  {
   "cell_type": "markdown",
   "metadata": {},
   "source": [
    "### 1.4.  Apply TF-IDF for information retrieval\n",
    "We can use the vector representation of documents to implement an information retrieval system. We test with the query $Q$ = \"tesla nasa\""
   ]
  },
  {
   "cell_type": "code",
   "execution_count": 22,
   "metadata": {},
   "outputs": [
    {
     "name": "stdout",
     "output_type": "stream",
     "text": [
      "Top-5 documents\n",
      "0 b'@ashwin7002 @NASA @faa @AFPAA We have not ruled that out.'\n",
      "1 b'RT @NASA: Updated @SpaceX #Dragon #ISS rendezvous times: NASA TV coverage begins Sunday at 3:30amET: http://t.co/qrm0Dz4jPE. Grapple at  ...'\n",
      "2 b\"Deeply appreciate @NASA's faith in @SpaceX. We will do whatever it takes to make NASA and the American people proud.\"\n",
      "3 b'Would also like to congratulate @Boeing, fellow winner of the @NASA commercial crew program'\n",
      "4 b\"@astrostephenson We're aiming for late 2015, but NASA needs to have overlapping capability to be safe. Would do the same\"\n"
     ]
    }
   ],
   "source": [
    "from math import sqrt\n",
    "def cosine_similarity(v1,v2):\n",
    "    sumxx, sumxy, sumyy = 0, 0, 0\n",
    "    sumxx, sumxy, sumyy = 0, 0, 0\n",
    "    sumxy = sum([a*b for a,b in zip(v1,v2)])\n",
    "    sumxx = sqrt(sum([x*x for x in v1]))\n",
    "    sumyy = sqrt(sum([y*y for y in v2]))\n",
    "    result = sumxy/(sumxx*sumyy+1)\n",
    "    return result\n",
    "def search_vec(query, k, vocabulary, stemmer, document_vectors, original_documents):\n",
    "    q = query.split()\n",
    "    q = [stemmer.stem(w) for w in q]\n",
    "    query_vector = vectorize(q, vocabulary, idf)\n",
    "    \n",
    "    scores = [[cosine_similarity(query_vector, document_vectors[d]), d] for d in range(len(document_vectors))]\n",
    "    scores.sort(key=lambda x: -x[0])\n",
    "\n",
    "    print('Top-{0} documents'.format(k))\n",
    "    for i in range(k):\n",
    "        print(i, original_documents[scores[i][1]])\n",
    "\n",
    "query = \"tesla nasa\"\n",
    "stemmer = PorterStemmer()\n",
    "search_vec(query, 5, vocabulary, stemmer, document_vectors, original_documents)"
   ]
  },
  {
   "cell_type": "markdown",
   "metadata": {},
   "source": [
    "We can also use the scikit-learn library to do the retrieval."
   ]
  },
  {
   "cell_type": "code",
   "execution_count": 23,
   "metadata": {},
   "outputs": [
    {
     "name": "stdout",
     "output_type": "stream",
     "text": [
      "Top-5 documents\n",
      "0 b'@ashwin7002 @NASA @faa @AFPAA We have not ruled that out.'\n",
      "1 b\"SpaceX could not do this without NASA. Can't express enough appreciation. https://t.co/uQpI60zAV7\"\n",
      "2 b'@NASA launched a rocket into the northern lights http://t.co/tR2cSeMV'\n",
      "3 b'Whatever happens today, we could not have done it without @NASA, but errors are ours alone and me most of all.'\n",
      "4 b'RT @NASA: Updated @SpaceX #Dragon #ISS rendezvous times: NASA TV coverage begins Sunday at 3:30amET: http://t.co/qrm0Dz4jPE. Grapple at  ...'\n"
     ]
    }
   ],
   "source": [
    "new_features = tfidf.transform([query])\n",
    "\n",
    "cosine_similarities = linear_kernel(new_features, corpus_tf_idf).flatten()\n",
    "related_docs_indices = cosine_similarities.argsort()[::-1]\n",
    "\n",
    "topk = 5\n",
    "print('Top-{0} documents'.format(topk))\n",
    "for i in range(topk):\n",
    "    print(i, original_documents[related_docs_indices[i]])"
   ]
  },
  {
   "cell_type": "code",
   "execution_count": null,
   "metadata": {},
   "outputs": [],
   "source": []
  }
 ],
 "metadata": {
  "kernelspec": {
   "display_name": "Python 3",
   "language": "python",
   "name": "python3"
  },
  "language_info": {
   "codemirror_mode": {
    "name": "ipython",
    "version": 3
   },
   "file_extension": ".py",
   "mimetype": "text/x-python",
   "name": "python",
   "nbconvert_exporter": "python",
   "pygments_lexer": "ipython3",
   "version": "3.7.6"
  }
 },
 "nbformat": 4,
 "nbformat_minor": 2
}
